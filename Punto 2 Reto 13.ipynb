{
 "cells": [
  {
   "attachments": {},
   "cell_type": "markdown",
   "metadata": {},
   "source": [
    "Desarrollar una función que reciba dos diccionarios como parametros y los mezcle, es decir, que se construya un nuevo diccionario con las llaves de los dos diccionarios; si hay una clave repetida en ambos diccionarios, se debe asignar el valor que tenga la clave en el primer diccionario."
   ]
  },
  {
   "cell_type": "code",
   "execution_count": null,
   "metadata": {},
   "outputs": [],
   "source": [
    "def mezclar_diccionarios(diccionario1, diccionario2):\n",
    "    nuevo_diccionario = diccionario1.copy()  # Copiar diccionario1 para conservar su contenido original\n",
    "    \n",
    "    for a, b in diccionario2.items():\n",
    "        if a not in nuevo_diccionario:\n",
    "            nuevo_diccionario[a] = b\n",
    "    \n",
    "    return nuevo_diccionario\n",
    "if __name__ == \"__main__\":\n",
    "    Diccionario_1= {1: \"a\", 2: \"h\", 3: \"c\", 4: \"f\", 5: \"e\", 6: \"g\", 7: \"m\", 8: \"q\", 9: \"n\"}\n",
    "    Diccionario_2= {1: \"b\", 22: \"h\", 13: \"d\", 4: \"g\", 5: \"x\", 16: \"l\", 7: \"y\", 19: \"q\", 20: \"z\"}\n",
    "    Mezcla = mezclar_diccionarios(Diccionario_1,Diccionario_2)\n"
   ]
  }
 ],
 "metadata": {
  "language_info": {
   "name": "python"
  },
  "orig_nbformat": 4
 },
 "nbformat": 4,
 "nbformat_minor": 2
}
