{
 "cells": [
  {
   "attachments": {},
   "cell_type": "markdown",
   "metadata": {},
   "source": [
    "Desarrollar un algoritmo que imprima de manera ascendente los valores (todos del mismo tipo) de un diccionario."
   ]
  },
  {
   "cell_type": "code",
   "execution_count": null,
   "metadata": {},
   "outputs": [],
   "source": [
    "def ordenar_valores (a):\n",
    "  valores = list(Diccionario.values())\n",
    "  valores_ordenados = sorted(valores)\n",
    "  for i in valores_ordenados :\n",
    "    print(i)\n",
    "    \n",
    "  return valores_ordenados\n",
    "\n",
    "if __name__ == \"__main__\":\n",
    "    Diccionario = {1: \"a\", 2: \"h\", 3: \"c\", 4: \"f\", 5: \"e\", 6: \"g\", 7: \"m\", 8: \"q\", 9: \"n\"}\n",
    "    valores_ordenados = ordenar_valores(Diccionario)\n",
    "    "
   ]
  }
 ],
 "metadata": {
  "language_info": {
   "name": "python"
  },
  "orig_nbformat": 4
 },
 "nbformat": 4,
 "nbformat_minor": 2
}
