{
 "cells": [
  {
   "attachments": {},
   "cell_type": "markdown",
   "metadata": {},
   "source": [
    "A través de un programa conectese a al menos 3 API's , obtenga el JSON, imprimalo y extraiga los pares de llave : valor."
   ]
  },
  {
   "cell_type": "code",
   "execution_count": null,
   "metadata": {},
   "outputs": [],
   "source": [
    "import requests\n",
    "import json\n",
    "\n",
    "url1 = 'https://catfact.ninja/fact'\n",
    "url2 = 'https://official-joke-api.appspot.com/random_joke'\n",
    "url3 = 'https://api.coindesk.com/v1/bpi/currentprice.json'\n",
    "\n",
    "def apiInfo(direccion: str) -> str:\n",
    "    print(direccion)\n",
    "    peticion = requests.get(direccion)\n",
    "    print(peticion.status_code)\n",
    "    j = json.loads(peticion.content)\n",
    "    print(j)\n",
    "    return list(j.items())\n",
    "\n",
    "\n",
    "if __name__ == \"__main__\":\n",
    "    Url1 = apiInfo(url1)\n",
    "    Url2 = apiInfo(url2)\n",
    "    Url3 = apiInfo(url3)\n"
   ]
  }
 ],
 "metadata": {
  "language_info": {
   "name": "python"
  },
  "orig_nbformat": 4
 },
 "nbformat": 4,
 "nbformat_minor": 2
}
